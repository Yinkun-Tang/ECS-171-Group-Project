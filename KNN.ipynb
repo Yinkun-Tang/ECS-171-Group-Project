{
 "cells": [
  {
   "cell_type": "code",
   "execution_count": 1,
   "id": "b0b761bc",
   "metadata": {},
   "outputs": [],
   "source": [
    "import pandas as pd\n",
    "import numpy as np\n",
    "import matplotlib.pyplot as plt\n",
    "from sklearn.preprocessing import OneHotEncoder"
   ]
  },
  {
   "cell_type": "code",
   "execution_count": 2,
   "id": "0e03edf9",
   "metadata": {},
   "outputs": [
    {
     "name": "stdout",
     "output_type": "stream",
     "text": [
      "        id  Area Integer  Perimeter Real  Major_Axis_Length Real  \\\n",
      "0        1         15231      525.578979              229.749878   \n",
      "1        2         14656      494.311005              206.020065   \n",
      "2        3         14634      501.122009              214.106781   \n",
      "3        4         13176      458.342987              193.337387   \n",
      "4        5         14688      507.166992              211.743378   \n",
      "...    ...           ...             ...                     ...   \n",
      "3805  3806         11441      415.858002              170.486771   \n",
      "3806  3807         11625      421.390015              167.714798   \n",
      "3807  3808         12437      442.498993              183.572922   \n",
      "3808  3809          9882      392.296997              161.193985   \n",
      "3809  3810         11434      404.709992              161.079269   \n",
      "\n",
      "      Minor_Axis_Length Real  Eccentricity        Real  \\\n",
      "0                  85.093788                  0.928882   \n",
      "1                  91.730972                  0.895405   \n",
      "2                  87.768288                  0.912118   \n",
      "3                  87.448395                  0.891861   \n",
      "4                  89.312454                  0.906691   \n",
      "...                      ...                       ...   \n",
      "3805               85.756592                  0.864280   \n",
      "3806               89.462570                  0.845850   \n",
      "3807               86.801979                  0.881144   \n",
      "3808               78.210480                  0.874406   \n",
      "3809               90.868195                  0.825692   \n",
      "\n",
      "      Convex_Area        Integer  Extent Real     Class  \n",
      "0                          15617     0.572896    Cammeo  \n",
      "1                          15072     0.615436    Cammeo  \n",
      "2                          14954     0.693259    Cammeo  \n",
      "3                          13368     0.640669    Cammeo  \n",
      "4                          15262     0.646024    Cammeo  \n",
      "...                          ...          ...       ...  \n",
      "3805                       11628     0.681012  Osmancik  \n",
      "3806                       11904     0.694279  Osmancik  \n",
      "3807                       12645     0.626739  Osmancik  \n",
      "3808                       10097     0.659064  Osmancik  \n",
      "3809                       11591     0.802949  Osmancik  \n",
      "\n",
      "[3810 rows x 9 columns]\n"
     ]
    }
   ],
   "source": [
    "# Load Dataset\n",
    "dataset = pd.read_csv(\"riceclass.csv\")\n",
    "print(dataset)"
   ]
  },
  {
   "cell_type": "code",
   "execution_count": 3,
   "id": "767ccb6c",
   "metadata": {},
   "outputs": [],
   "source": [
    "from sklearn.preprocessing import MinMaxScaler\n",
    "from sklearn.model_selection import train_test_split"
   ]
  },
  {
   "cell_type": "code",
   "execution_count": 4,
   "id": "4973ff05",
   "metadata": {},
   "outputs": [
    {
     "name": "stdout",
     "output_type": "stream",
     "text": [
      "Pre-processed data: \n",
      "      Area Integer  Perimeter Real  Major_Axis_Length Real  \\\n",
      "0         0.675937        0.879232                0.901216   \n",
      "1         0.625330        0.714095                0.648087   \n",
      "2         0.623394        0.750066                0.734349   \n",
      "3         0.495071        0.524136                0.512800   \n",
      "4         0.628146        0.781992                0.709138   \n",
      "...            ...             ...                     ...   \n",
      "3805      0.342369        0.299758                0.269049   \n",
      "3806      0.358564        0.328975                0.239480   \n",
      "3807      0.430030        0.440458                0.408641   \n",
      "3808      0.205158        0.175325                0.169922   \n",
      "3809      0.341753        0.240882                0.168698   \n",
      "\n",
      "      Minor_Axis_Length Real  Eccentricity        Real  \\\n",
      "0                   0.532417                  0.888011   \n",
      "1                   0.670663                  0.691980   \n",
      "2                   0.588124                  0.789846   \n",
      "3                   0.581461                  0.671227   \n",
      "4                   0.620288                  0.758067   \n",
      "...                      ...                       ...   \n",
      "3805                0.546223                  0.509725   \n",
      "3806                0.623415                  0.401801   \n",
      "3807                0.567997                  0.608474   \n",
      "3808                0.389045                  0.569017   \n",
      "3809                0.652692                  0.283764   \n",
      "\n",
      "      Convex_Area        Integer  Extent Real  \n",
      "0                       0.693917     0.207577  \n",
      "1                       0.646009     0.324564  \n",
      "2                       0.635636     0.538576  \n",
      "3                       0.496220     0.393954  \n",
      "4                       0.662711     0.408680  \n",
      "...                          ...          ...  \n",
      "3805                    0.343267     0.504897  \n",
      "3806                    0.367528     0.541380  \n",
      "3807                    0.432665     0.355645  \n",
      "3808                    0.208685     0.444539  \n",
      "3809                    0.340014     0.840225  \n",
      "\n",
      "[3810 rows x 7 columns]\n",
      "Pre-processed class: \n",
      "      Cammeo  Osmancik\n",
      "0       True     False\n",
      "1       True     False\n",
      "2       True     False\n",
      "3       True     False\n",
      "4       True     False\n",
      "...      ...       ...\n",
      "3805   False      True\n",
      "3806   False      True\n",
      "3807   False      True\n",
      "3808   False      True\n",
      "3809   False      True\n",
      "\n",
      "[3810 rows x 2 columns]\n"
     ]
    }
   ],
   "source": [
    "# Data Preprocessing\n",
    "X = dataset.drop(\"Class\", axis = 1)\n",
    "X = X.drop(\"id\", axis = 1)\n",
    "y = dataset[\"Class\"]\n",
    "\n",
    "scaler = MinMaxScaler(feature_range = (0, 1))\n",
    "X_rescaled = scaler.fit_transform(X)\n",
    "X = pd.DataFrame(data = X_rescaled, columns = X.columns)\n",
    "\n",
    "set_of_classes = y.value_counts().index.tolist()\n",
    "set_of_classes = pd.DataFrame({\"Class\": set_of_classes})\n",
    "y = pd.get_dummies(y)\n",
    "\n",
    "print(\"Pre-processed data: \")\n",
    "print(X)\n",
    "\n",
    "print(\"Pre-processed class: \")\n",
    "print(y)"
   ]
  },
  {
   "cell_type": "code",
   "execution_count": 5,
   "id": "84e7805b",
   "metadata": {},
   "outputs": [
    {
     "name": "stdout",
     "output_type": "stream",
     "text": [
      "The dimension for training dataset: \n",
      "(3429, 7)\n",
      "The dimension for testing dataset: \n",
      "(381, 7)\n"
     ]
    }
   ],
   "source": [
    "# Split Dataset\n",
    "data_train, data_test, class_train, class_test = train_test_split(X, y, test_size = 0.1, random_state = 42)\n",
    "\n",
    "print(\"The dimension for training dataset: \")\n",
    "print(data_train.shape)\n",
    "\n",
    "print(\"The dimension for testing dataset: \")\n",
    "print(data_test.shape)"
   ]
  },
  {
   "cell_type": "code",
   "execution_count": 6,
   "id": "a69ad72c",
   "metadata": {},
   "outputs": [],
   "source": [
    "from sklearn.neighbors import KNeighborsClassifier\n",
    "from sklearn.metrics import accuracy_score\n",
    "from sklearn.model_selection import GridSearchCV"
   ]
  },
  {
   "cell_type": "code",
   "execution_count": 11,
   "id": "1d5b397c",
   "metadata": {},
   "outputs": [
    {
     "name": "stdout",
     "output_type": "stream",
     "text": [
      "Accuracy with k = 5 (default) for full model:  92.38845144356955\n"
     ]
    }
   ],
   "source": [
    "knn = KNeighborsClassifier()\n",
    "\n",
    "knn.fit(data_train, class_train)\n",
    "\n",
    "y_pred = knn.predict(data_test)\n",
    "\n",
    "print(\"Accuracy with k = 5 (default) for full model: \", accuracy_score(class_test, y_pred) * 100)"
   ]
  },
  {
   "cell_type": "code",
   "execution_count": 8,
   "id": "4e8a9a2e",
   "metadata": {},
   "outputs": [
    {
     "name": "stdout",
     "output_type": "stream",
     "text": [
      "Best n_neighbors: 65\n"
     ]
    }
   ],
   "source": [
    "# Hyperparamter Tuning & Grid Search for Best K Value\n",
    "knn = KNeighborsClassifier()\n",
    "\n",
    "leaf_size = list(range(1,50))\n",
    "n_neighbors = list(range(1,100))\n",
    "p = [1,2]\n",
    "\n",
    "hyperparameters = dict(leaf_size = leaf_size, n_neighbors = n_neighbors, p = p)\n",
    "\n",
    "op_knn = GridSearchCV(knn, hyperparameters)\n",
    "\n",
    "best_knn = op_knn.fit(data_train, class_train)\n",
    "\n",
    "print(\"Best n_neighbors:\", best_knn.best_estimator_.get_params()['n_neighbors'])"
   ]
  },
  {
   "cell_type": "code",
   "execution_count": 10,
   "id": "a92d854c",
   "metadata": {},
   "outputs": [
    {
     "name": "stdout",
     "output_type": "stream",
     "text": [
      "Accuracy with k = 65 for full model:  92.91338582677166\n"
     ]
    }
   ],
   "source": [
    "# Apply Algorithm\n",
    "k = 65\n",
    "\n",
    "knn_65 = KNeighborsClassifier(k)\n",
    "\n",
    "knn_65.fit(data_train, class_train)\n",
    "\n",
    "y_pred_65 = knn_65.predict(data_test)\n",
    "\n",
    "print(\"Accuracy with k = 65 for full model: \", accuracy_score(class_test, y_pred_65) * 100)"
   ]
  },
  {
   "cell_type": "code",
   "execution_count": null,
   "id": "3fdc5561",
   "metadata": {},
   "outputs": [],
   "source": []
  }
 ],
 "metadata": {
  "kernelspec": {
   "display_name": "Python 3 (ipykernel)",
   "language": "python",
   "name": "python3"
  },
  "language_info": {
   "codemirror_mode": {
    "name": "ipython",
    "version": 3
   },
   "file_extension": ".py",
   "mimetype": "text/x-python",
   "name": "python",
   "nbconvert_exporter": "python",
   "pygments_lexer": "ipython3",
   "version": "3.11.5"
  }
 },
 "nbformat": 4,
 "nbformat_minor": 5
}
