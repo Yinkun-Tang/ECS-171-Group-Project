{
 "cells": [
  {
   "cell_type": "code",
   "execution_count": 31,
   "metadata": {},
   "outputs": [
    {
     "name": "stdout",
     "output_type": "stream",
     "text": [
      "Metrics before hyperparameter optimization:\n",
      "Accuracy: 0.931758530183727\n",
      "Precision: 0.9317570481555417\n",
      "Recall: 0.931758530183727\n",
      "Confusion Matrix:\n",
      "[[300  30]\n",
      " [ 22 410]]\n"
     ]
    }
   ],
   "source": [
    "import numpy as np\n",
    "import pandas as pd\n",
    "from sklearn.model_selection import train_test_split\n",
    "from sklearn.linear_model import LogisticRegression\n",
    "from sklearn import metrics\n",
    "from sklearn.model_selection import GridSearchCV\n",
    "from sklearn.preprocessing import MinMaxScaler\n",
    "\n",
    "dataset = pd.read_csv('riceclass.csv')\n",
    "X = dataset.drop(['Class', 'id'], axis=1)\n",
    "y = dataset['Class']\n",
    "\n",
    "\n",
    "X_train, X_test, y_train, y_test = train_test_split(X, y, test_size=0.2, random_state=21)\n",
    "\n",
    "\n",
    "scaler = MinMaxScaler(feature_range=(0, 1))\n",
    "X_train_rescaled = scaler.fit_transform(X_train)\n",
    "X_test_rescaled = scaler.transform(X_test)\n",
    "\n",
    "model = LogisticRegression(max_iter=1000)\n",
    "\n",
    "model.fit(X_train_rescaled, y_train)\n",
    "\n",
    "y_pred = model.predict(X_test_rescaled)\n",
    "\n",
    "\n",
    "accuracy = metrics.accuracy_score(y_test, y_pred)\n",
    "precision = metrics.precision_score(y_test, y_pred, average='weighted')\n",
    "recall = metrics.recall_score(y_test, y_pred, average='weighted')\n",
    "\n",
    "print(\"Metrics before hyperparameter optimization:\")\n",
    "print(f\"Accuracy: {accuracy}\")\n",
    "print(f\"Precision: {precision}\")\n",
    "print(f\"Recall: {recall}\")\n",
    "\n",
    "conf_matrix = metrics.confusion_matrix(y_test, y_pred)\n",
    "print(\"Confusion Matrix:\")\n",
    "print(conf_matrix)"
   ]
  },
  {
   "cell_type": "code",
   "execution_count": 33,
   "metadata": {},
   "outputs": [
    {
     "name": "stdout",
     "output_type": "stream",
     "text": [
      "\n",
      "Metrics after hyperparameter optimization:\n",
      "Accuracy: 0.9356955380577427\n",
      "Precision: 0.935736337363704\n",
      "Recall: 0.9356955380577427\n",
      "Confusion Matrix:\n",
      "[[301  29]\n",
      " [ 20 412]]\n"
     ]
    }
   ],
   "source": [
    "# Higher C values imply less regularization, but may overfit at higher values of C.\n",
    "param_grid = {'C': [0.001, 0.01, 0.1, 1, 10, 100, 1000]}\n",
    "\n",
    "model2 = LogisticRegression(max_iter=1000)\n",
    "\n",
    "\n",
    "grid_search = GridSearchCV(model2, param_grid, cv=5)\n",
    "grid_search.fit(X_train_scaled, y_train)\n",
    "\n",
    "\n",
    "best_params = grid_search.best_params_\n",
    "best_model = grid_search.best_estimator_\n",
    "\n",
    "\n",
    "y_pred_tuned = best_model.predict(X_test_scaled)\n",
    "\n",
    "\n",
    "accuracy_tuned = metrics.accuracy_score(y_test, y_pred_tuned)\n",
    "precision_tuned = metrics.precision_score(y_test, y_pred_tuned, average='weighted')\n",
    "recall_tuned = metrics.recall_score(y_test, y_pred_tuned, average='weighted')\n",
    "\n",
    "\n",
    "print(\"\\nMetrics after hyperparameter optimization:\")\n",
    "print(f\"Accuracy: {accuracy_tuned}\")\n",
    "print(f\"Precision: {precision_tuned}\")\n",
    "print(f\"Recall: {recall_tuned}\")\n",
    "\n",
    "\n",
    "conf_matrix = metrics.confusion_matrix(y_test, y_pred_tuned)\n",
    "print(\"Confusion Matrix:\")\n",
    "print(conf_matrix)\n",
    "\n"
   ]
  }
 ],
 "metadata": {
  "kernelspec": {
   "display_name": "base",
   "language": "python",
   "name": "python3"
  },
  "language_info": {
   "codemirror_mode": {
    "name": "ipython",
    "version": 3
   },
   "file_extension": ".py",
   "mimetype": "text/x-python",
   "name": "python",
   "nbconvert_exporter": "python",
   "pygments_lexer": "ipython3",
   "version": "3.11.4"
  },
  "orig_nbformat": 4
 },
 "nbformat": 4,
 "nbformat_minor": 2
}
